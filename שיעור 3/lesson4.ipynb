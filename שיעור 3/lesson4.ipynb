{
 "cells": [
  {
   "cell_type": "code",
   "execution_count": 5,
   "id": "f7140552-3b3b-4b85-9cb4-a3a829bbada7",
   "metadata": {},
   "outputs": [],
   "source": [
    "import numpy as np"
   ]
  },
  {
   "cell_type": "code",
   "execution_count": 7,
   "id": "1ab3eeba-f95d-4975-8c0d-eb5fee098f4c",
   "metadata": {},
   "outputs": [
    {
     "data": {
      "text/plain": [
       "array([13, 20,  7, 20, 29, 18, 41, 21, 11, 39], dtype=int32)"
      ]
     },
     "execution_count": 7,
     "metadata": {},
     "output_type": "execute_result"
    }
   ],
   "source": [
    "random_int_array = np.random.randint(1, 50, size = (10))\n",
    "random_int_array"
   ]
  },
  {
   "cell_type": "code",
   "execution_count": null,
   "id": "a836351a-332a-4e80-b2e3-78ebf940edee",
   "metadata": {},
   "outputs": [],
   "source": [
    "גודל המערך:"
   ]
  },
  {
   "cell_type": "code",
   "execution_count": 8,
   "id": "b625b6e4-21b1-4092-809b-38f818412dd4",
   "metadata": {},
   "outputs": [
    {
     "data": {
      "text/plain": [
       "10"
      ]
     },
     "execution_count": 8,
     "metadata": {},
     "output_type": "execute_result"
    }
   ],
   "source": [
    "random_int_array.size"
   ]
  },
  {
   "cell_type": "code",
   "execution_count": null,
   "id": "14a815ff-bf1d-4ab7-b776-d5fbc53b7236",
   "metadata": {},
   "outputs": [],
   "source": [
    "סוג המערך:"
   ]
  },
  {
   "cell_type": "code",
   "execution_count": 9,
   "id": "86c130df-a581-49e9-9f4c-d0e6414a33af",
   "metadata": {},
   "outputs": [
    {
     "data": {
      "text/plain": [
       "dtype('int32')"
      ]
     },
     "execution_count": 9,
     "metadata": {},
     "output_type": "execute_result"
    }
   ],
   "source": [
    "random_int_array.dtype"
   ]
  },
  {
   "cell_type": "raw",
   "id": "621c6244-7097-4778-a932-e39973a0c334",
   "metadata": {},
   "source": [
    "random_int_array.shape"
   ]
  },
  {
   "cell_type": "code",
   "execution_count": null,
   "id": "defb21fb-ea9f-4e28-b996-1408b484ec30",
   "metadata": {},
   "outputs": [],
   "source": [
    "1. צרי מערך באורך 10 של מספרים שלמים רנדומליים בין 1 ל-50 וחשבי את הממוצע של המספרים"
   ]
  },
  {
   "cell_type": "code",
   "execution_count": 10,
   "id": "412237a6-05f0-4f60-b309-91e5f900fe7e",
   "metadata": {},
   "outputs": [
    {
     "data": {
      "text/plain": [
       "array([28, 20, 46, 27, 33,  6, 37,  1, 38, 13], dtype=int32)"
      ]
     },
     "execution_count": 10,
     "metadata": {},
     "output_type": "execute_result"
    }
   ],
   "source": [
    "random_int_array = np.random.randint(1, 50, size = (10))\n",
    "random_int_array"
   ]
  },
  {
   "cell_type": "code",
   "execution_count": 11,
   "id": "1a485251-7808-497a-8245-92fe5ebc7dd6",
   "metadata": {},
   "outputs": [
    {
     "data": {
      "text/plain": [
       "<function ndarray.mean>"
      ]
     },
     "execution_count": 11,
     "metadata": {},
     "output_type": "execute_result"
    }
   ],
   "source": [
    "random_int_array.mean\n"
   ]
  },
  {
   "cell_type": "code",
   "execution_count": 14,
   "id": "19d72e93-9650-4379-8a56-e9ecb3a2c246",
   "metadata": {},
   "outputs": [
    {
     "data": {
      "text/plain": [
       "np.float64(24.9)"
      ]
     },
     "execution_count": 14,
     "metadata": {},
     "output_type": "execute_result"
    }
   ],
   "source": [
    "random_int_array.mean()"
   ]
  },
  {
   "cell_type": "code",
   "execution_count": null,
   "id": "1de2620a-98e6-481d-a518-494121a11b49",
   "metadata": {},
   "outputs": [],
   "source": [
    "3. צרי מערך של 20 מספרים שלמים רנדומליים בין 1 ל-100. מצאי את כל המספרים שגדולים מ-50 במערך זה."
   ]
  },
  {
   "cell_type": "code",
   "execution_count": 18,
   "id": "37fcadd5-e7f4-4177-a7e0-f04180a54e20",
   "metadata": {},
   "outputs": [
    {
     "data": {
      "text/plain": [
       "array([31, 46, 73, 80, 32, 21, 84, 74, 15, 92, 27, 60,  5, 45, 77, 29, 87,\n",
       "        9, 23,  7], dtype=int32)"
      ]
     },
     "execution_count": 18,
     "metadata": {},
     "output_type": "execute_result"
    }
   ],
   "source": [
    "random_int_array2 = np.random.randint(1, 100, size = (20))\n",
    "random_int_array2"
   ]
  },
  {
   "cell_type": "code",
   "execution_count": 20,
   "id": "b0038ed1-b4b2-41f8-9c8c-7623d75633b7",
   "metadata": {},
   "outputs": [
    {
     "data": {
      "text/plain": [
       "array([61, 88, 62, 69, 56, 65, 51, 71, 58], dtype=int32)"
      ]
     },
     "execution_count": 20,
     "metadata": {},
     "output_type": "execute_result"
    }
   ],
   "source": [
    "random_int_array2 = np.random.randint(1, 100, size = (20))\n",
    "condition = random_int_array2 > 50\n",
    "filtered_arr = random_int_array2[condition]\n",
    "filtered_arr"
   ]
  },
  {
   "cell_type": "code",
   "execution_count": null,
   "id": "e8061c3b-5588-4691-8777-778e0479e6e8",
   "metadata": {},
   "outputs": [],
   "source": []
  }
 ],
 "metadata": {
  "kernelspec": {
   "display_name": "Python 3 (ipykernel)",
   "language": "python",
   "name": "python3"
  },
  "language_info": {
   "codemirror_mode": {
    "name": "ipython",
    "version": 3
   },
   "file_extension": ".py",
   "mimetype": "text/x-python",
   "name": "python",
   "nbconvert_exporter": "python",
   "pygments_lexer": "ipython3",
   "version": "3.10.8"
  }
 },
 "nbformat": 4,
 "nbformat_minor": 5
}
